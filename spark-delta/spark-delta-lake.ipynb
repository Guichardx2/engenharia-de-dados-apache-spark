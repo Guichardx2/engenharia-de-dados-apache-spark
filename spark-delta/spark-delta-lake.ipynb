{
 "cells": [
  {
   "cell_type": "code",
   "execution_count": null,
   "id": "e8ffca31-3740-4ce7-8957-5f9c8db2118f",
   "metadata": {},
   "outputs": [],
   "source": [
    "from pyspark.sql import SparkSession #Import para sessão spark\n",
    "from pyspark.sql.types import StructType, StructField, StringType, FloatType #Imports para estrutura e tipos\n",
    "\n",
    "from delta import *\n",
    "\n",
    "import logging\n",
    "\n",
    "logging.getLogger(\"py4j\").setLevel(logging.DEBUG)"
   ]
  },
  {
   "cell_type": "code",
   "execution_count": null,
   "id": "26601a0d-fcff-408b-aa30-ca3d5ea7675c",
   "metadata": {},
   "outputs": [],
   "source": [
    "#Confiraçã0 da Sessão spark\n",
    "spark = (\n",
    "    SparkSession\n",
    "    .builder\n",
    "    .master(\"local[*]\")\n",
    "    .config(\"spark.jars.packages\", \"io.delta:delta-spark_2.12:3.0.0\")\n",
    "    .config(\"spark.sql.extensions\", \"io.delta.sql.DeltaSparkSessionExtension\")\n",
    "    .config(\"spark.sql.catalog.spark_catalog\", \"org.apache.spark.sql.delta.catalog.DeltaCatalog\")\n",
    "    .getOrCreate()\n",
    ")"
   ]
  },
  {
   "cell_type": "code",
   "execution_count": null,
   "id": "3d828e48-8c83-40d7-aa4a-e025bd47f8d8",
   "metadata": {},
   "outputs": [],
   "source": [
    "spark # Sessão"
   ]
  },
  {
   "cell_type": "code",
   "execution_count": null,
   "id": "c2c80e08-7761-4e8b-a550-01396748fcb5",
   "metadata": {
    "scrolled": true
   },
   "outputs": [],
   "source": [
    "#Simulação base de clientes\n",
    "data = [\n",
    "    (\"ID001\", \"CLIENTE_X\",\"SP\",\"ATIVO\",   250000.00),\n",
    "    (\"ID002\", \"CLIENTE_Y\",\"SC\",\"INATIVO\", 400000.00),\n",
    "    (\"ID003\", \"CLIENTE_Z\",\"DF\",\"ATIVO\",   1000000.00)\n",
    "]\n",
    "\n",
    "schema = (\n",
    "    StructType([\n",
    "        StructField(\"ID_CLIENTE\",     StringType(),True), #True = Pode ser nulo\n",
    "        StructField(\"NOME_CLIENTE\",   StringType(),True),\n",
    "        StructField(\"UF\",             StringType(),True),\n",
    "        StructField(\"STATUS\",         StringType(),True),\n",
    "        StructField(\"LIMITE_CREDITO\", FloatType(), True)\n",
    "    ])\n",
    ")\n",
    "\n",
    "df = spark.createDataFrame(data=data,schema=schema) #Dataframe\n",
    "\n",
    "df.show(truncate=False) #Permite visualizar os dados sem quebrar"
   ]
  },
  {
   "cell_type": "markdown",
   "id": "719ecc19-244f-48fe-b40e-a68ecd8334aa",
   "metadata": {},
   "source": [
    "# Grava Delta Table"
   ]
  },
  {
   "cell_type": "code",
   "execution_count": 6,
   "id": "c35a80a6-95cb-4c1f-b08c-26a04b0cfb58",
   "metadata": {},
   "outputs": [
    {
     "name": "stderr",
     "output_type": "stream",
     "text": [
      "                                                                                "
     ]
    }
   ],
   "source": [
    "# Gera uma delta table a partir do dataframe\n",
    "\n",
    "(\n",
    "    df\n",
    "    .write\n",
    "    .format(\"delta\")\n",
    "    .mode(\"overwrite\")\n",
    "    .save(\"./RAW/CLIENTES\")\n",
    ")"
   ]
  },
  {
   "cell_type": "markdown",
   "id": "690f142e-a13f-4a48-ba54-240e6b5e469b",
   "metadata": {},
   "source": [
    "# Simulação de cenário (NOVOS DADOS)"
   ]
  },
  {
   "cell_type": "code",
   "execution_count": 8,
   "id": "714eedff-70f0-4d0c-b720-34d069413e7b",
   "metadata": {},
   "outputs": [
    {
     "name": "stdout",
     "output_type": "stream",
     "text": [
      "+----------+------------+---+-------+--------------+\n",
      "|ID_CLIENTE|NOME_CLIENTE| UF| STATUS|LIMITE_CREDITO|\n",
      "+----------+------------+---+-------+--------------+\n",
      "|     ID001|   CLIENTE_X| SP|INATIVO|           0.0|\n",
      "|     ID002|   CLIENTE_Y| SC|  ATIVO|      400000.0|\n",
      "|     ID004|   CLIENTE_Z| DF|  ATIVO|     5000000.0|\n",
      "+----------+------------+---+-------+--------------+\n",
      "\n"
     ]
    }
   ],
   "source": [
    "new_data = [\n",
    "    (\"ID001\",\"CLIENTE_X\",\"SP\",\"INATIVO\", 0.00),\n",
    "    (\"ID002\",\"CLIENTE_Y\",\"SC\",\"ATIVO\",   400000.00),\n",
    "    (\"ID004\",\"CLIENTE_Z\",\"DF\",\"ATIVO\",   5000000.00)\n",
    "] # Novo lote da partição do data lake\n",
    "\n",
    "df_new = spark.createDataFrame(data=new_data, schema=schema) # Cria um dataframe com os novo dados\n",
    "\n",
    "df_new.show() # Mostra o dataframe"
   ]
  },
  {
   "cell_type": "markdown",
   "id": "f0fa9501-6178-433e-8fcd-ee78c0fb27eb",
   "metadata": {},
   "source": [
    "# UPSERT / MERGE "
   ]
  },
  {
   "cell_type": "markdown",
   "id": "eaaee6d1-cfe1-46de-8e62-9bd317bb020d",
   "metadata": {},
   "source": [
    "### OBS: Não ler delta tables com read parquet"
   ]
  },
  {
   "cell_type": "code",
   "execution_count": 10,
   "id": "1607b6da-e8ed-4246-a447-bb110ccdf63d",
   "metadata": {},
   "outputs": [],
   "source": [
    "#Criação da delta table\n",
    "delta_table= DeltaTable.forPath(spark, \"./RAW/CLIENTES\")"
   ]
  },
  {
   "cell_type": "code",
   "execution_count": 11,
   "id": "04ef9cdb-2c73-4dd2-a51f-0f298615fc97",
   "metadata": {},
   "outputs": [
    {
     "name": "stderr",
     "output_type": "stream",
     "text": [
      "                                                                                "
     ]
    },
    {
     "name": "stdout",
     "output_type": "stream",
     "text": [
      "+----------+------------+---+-------+--------------+\n",
      "|ID_CLIENTE|NOME_CLIENTE| UF| STATUS|LIMITE_CREDITO|\n",
      "+----------+------------+---+-------+--------------+\n",
      "|     ID002|   CLIENTE_Y| SC|INATIVO|      400000.0|\n",
      "|     ID003|   CLIENTE_Z| DF|  ATIVO|     1000000.0|\n",
      "|     ID001|   CLIENTE_X| SP|  ATIVO|      250000.0|\n",
      "+----------+------------+---+-------+--------------+\n",
      "\n"
     ]
    }
   ],
   "source": [
    "delta_table.toDF().show() #Transforma a leitura em um dataframe e da output"
   ]
  },
  {
   "cell_type": "code",
   "execution_count": 12,
   "id": "cdacb383-2637-41d4-93f3-b1a75c1ac990",
   "metadata": {},
   "outputs": [
    {
     "name": "stderr",
     "output_type": "stream",
     "text": [
      "                                                                                "
     ]
    }
   ],
   "source": [
    "# MERGE\n",
    "(\n",
    "    delta_table.alias(\"dados_atuais\")\n",
    "    .merge(\n",
    "        df_new.alias(\"novos_dados\"),\n",
    "        \"dados_atuais.ID_CLIENTE = novos_dados.ID_CLIENTE\" # Relacionamento de chaves\n",
    "    )\n",
    "    .whenMatchedUpdateAll()\n",
    "    .whenNotMatchedInsertAll() # All se refere a todos os dados, caso queira especificar, é possível remover o all colocar apenas o desejado.\n",
    "    .execute() # executa\n",
    ")"
   ]
  },
  {
   "cell_type": "code",
   "execution_count": 13,
   "id": "9c678a00-55e5-4a03-a402-0eabf99722cd",
   "metadata": {},
   "outputs": [
    {
     "name": "stderr",
     "output_type": "stream",
     "text": [
      "                                                                                "
     ]
    },
    {
     "name": "stdout",
     "output_type": "stream",
     "text": [
      "+----------+------------+---+-------+--------------+\n",
      "|ID_CLIENTE|NOME_CLIENTE| UF| STATUS|LIMITE_CREDITO|\n",
      "+----------+------------+---+-------+--------------+\n",
      "|     ID001|   CLIENTE_X| SP|INATIVO|           0.0|\n",
      "|     ID002|   CLIENTE_Y| SC|  ATIVO|      400000.0|\n",
      "|     ID004|   CLIENTE_Z| DF|  ATIVO|     5000000.0|\n",
      "|     ID003|   CLIENTE_Z| DF|  ATIVO|     1000000.0|\n",
      "+----------+------------+---+-------+--------------+\n",
      "\n"
     ]
    }
   ],
   "source": [
    "delta_table.toDF().show()"
   ]
  },
  {
   "cell_type": "code",
   "execution_count": 14,
   "id": "4b99132b-43ba-4e1b-9233-8d3827e76ca7",
   "metadata": {},
   "outputs": [
    {
     "name": "stderr",
     "output_type": "stream",
     "text": [
      "                                                                                "
     ]
    }
   ],
   "source": [
    "# Delete\n",
    "delta_table.delete(\"LIMITE_CREDITO < 400000.0\") #Condição (Não exclui fisicamente)"
   ]
  },
  {
   "cell_type": "code",
   "execution_count": 15,
   "id": "7edc9c41-2924-499e-b276-95de7df7c5db",
   "metadata": {},
   "outputs": [
    {
     "name": "stdout",
     "output_type": "stream",
     "text": [
      "+----------+------------+---+------+--------------+\n",
      "|ID_CLIENTE|NOME_CLIENTE| UF|STATUS|LIMITE_CREDITO|\n",
      "+----------+------------+---+------+--------------+\n",
      "|     ID002|   CLIENTE_Y| SC| ATIVO|      400000.0|\n",
      "|     ID004|   CLIENTE_Z| DF| ATIVO|     5000000.0|\n",
      "|     ID003|   CLIENTE_Z| DF| ATIVO|     1000000.0|\n",
      "+----------+------------+---+------+--------------+\n",
      "\n"
     ]
    }
   ],
   "source": [
    "delta_table.toDF().show()"
   ]
  },
  {
   "cell_type": "markdown",
   "id": "a304b870-3cd9-4462-a308-8e5418d86204",
   "metadata": {},
   "source": [
    "# Operações com delta table (CRUD)"
   ]
  },
  {
   "cell_type": "markdown",
   "id": "e9e11be2-2d21-4b90-afc5-b8fc31b72b44",
   "metadata": {
    "jp-MarkdownHeadingCollapsed": true
   },
   "source": [
    "# CRIAÇÃO DE TABELA"
   ]
  },
  {
   "cell_type": "code",
   "execution_count": 17,
   "id": "678ad58b-aab0-4126-82ff-930326faef10",
   "metadata": {},
   "outputs": [
    {
     "data": {
      "text/plain": [
       "DataFrame[]"
      ]
     },
     "execution_count": 17,
     "metadata": {},
     "output_type": "execute_result"
    }
   ],
   "source": [
    "# Criação da tabela cliente_delta\n",
    "spark.sql(\n",
    "     \"\"\"\n",
    "     CREATE TABLE IF NOT EXISTS cliente_delta (\n",
    "         id INT,\n",
    "         nome_cliente STRING,\n",
    "         uf CHAR(2),\n",
    "         status BOOLEAN,\n",
    "         limite_credito FLOAT\n",
    "     ) USING delta\n",
    "     \"\"\"\n",
    ")"
   ]
  },
  {
   "cell_type": "code",
   "execution_count": 18,
   "id": "b3653f22-f525-4ead-a355-1c5d38ccac9e",
   "metadata": {},
   "outputs": [
    {
     "name": "stdout",
     "output_type": "stream",
     "text": [
      "+---+------------+---+------+--------------+\n",
      "| id|nome_cliente| uf|status|limite_credito|\n",
      "+---+------------+---+------+--------------+\n",
      "+---+------------+---+------+--------------+\n",
      "\n"
     ]
    },
    {
     "name": "stderr",
     "output_type": "stream",
     "text": [
      "                                                                                "
     ]
    }
   ],
   "source": [
    "# Relaiza um select na tabela criada e faz o output\n",
    "spark.sql(\n",
    "    \"\"\"\n",
    "    SELECT * from cliente_delta\n",
    "    \"\"\"\n",
    ").show()"
   ]
  },
  {
   "cell_type": "code",
   "execution_count": 27,
   "id": "3565304c-66a3-42ee-9550-5d995a484168",
   "metadata": {},
   "outputs": [],
   "source": [
    "# Criação da delta table para cliente delta\n",
    "cliente = DeltaTable.forPath(spark, \"./spark-warehouse/cliente_delta\") "
   ]
  },
  {
   "cell_type": "code",
   "execution_count": 28,
   "id": "62aa4720-b554-4f0e-96b7-94bebbf19ed7",
   "metadata": {},
   "outputs": [
    {
     "name": "stderr",
     "output_type": "stream",
     "text": [
      "                                                                                "
     ]
    },
    {
     "name": "stdout",
     "output_type": "stream",
     "text": [
      "+-------+--------------------+------+--------+------------+--------------------+----+--------+---------+-----------+--------------+-------------+--------------------+------------+--------------------+\n",
      "|version|           timestamp|userId|userName|   operation| operationParameters| job|notebook|clusterId|readVersion|isolationLevel|isBlindAppend|    operationMetrics|userMetadata|          engineInfo|\n",
      "+-------+--------------------+------+--------+------------+--------------------+----+--------+---------+-----------+--------------+-------------+--------------------+------------+--------------------+\n",
      "|      3|2025-04-22 17:31:...|  NULL|    NULL|      UPDATE|   {predicate -> []}|NULL|    NULL|     NULL|          2|  Serializable|        false|{numRemovedFiles ...|        NULL|Apache-Spark/3.5....|\n",
      "|      2|2025-04-22 17:27:...|  NULL|    NULL| ADD COLUMNS|{columns -> [{\"co...|NULL|    NULL|     NULL|          1|  Serializable|         true|                  {}|        NULL|Apache-Spark/3.5....|\n",
      "|      1|2025-04-22 17:22:...|  NULL|    NULL|       WRITE|{mode -> Append, ...|NULL|    NULL|     NULL|          0|  Serializable|         true|{numFiles -> 3, n...|        NULL|Apache-Spark/3.5....|\n",
      "|      0|2025-04-22 17:14:...|  NULL|    NULL|CREATE TABLE|{isManaged -> tru...|NULL|    NULL|     NULL|       NULL|  Serializable|         true|                  {}|        NULL|Apache-Spark/3.5....|\n",
      "+-------+--------------------+------+--------+------------+--------------------+----+--------+---------+-----------+--------------+-------------+--------------------+------------+--------------------+\n",
      "\n"
     ]
    }
   ],
   "source": [
    "# mostra o histórico\n",
    "cliente.history().show()"
   ]
  },
  {
   "cell_type": "markdown",
   "id": "ebb3ee95-a163-490d-a262-d02ea1f618eb",
   "metadata": {
    "jp-MarkdownHeadingCollapsed": true
   },
   "source": [
    "# INSERT"
   ]
  },
  {
   "cell_type": "code",
   "execution_count": 20,
   "id": "d949959e-6e5e-4b3f-8b22-316373508b7b",
   "metadata": {},
   "outputs": [
    {
     "name": "stderr",
     "output_type": "stream",
     "text": [
      "                                                                                "
     ]
    },
    {
     "data": {
      "text/plain": [
       "DataFrame[]"
      ]
     },
     "execution_count": 20,
     "metadata": {},
     "output_type": "execute_result"
    }
   ],
   "source": [
    "#INSERT\n",
    "spark.sql(\n",
    "    \"\"\"\n",
    "        INSERT INTO cliente_delta VALUES \n",
    "        (1, 'Jean Guichard²', 'RS', 'true', '10000000.0'), \n",
    "        (2, 'Lucas da Rosa', 'SC', 'true', '1000000.0'), \n",
    "        (3, 'Matheus Daminelli', 'SC', 'true', '4000000.0')\n",
    "    \"\"\"\n",
    ")"
   ]
  },
  {
   "cell_type": "code",
   "execution_count": 21,
   "id": "de8607b9-fe6f-4e05-af27-af6bb2e410ba",
   "metadata": {},
   "outputs": [
    {
     "name": "stdout",
     "output_type": "stream",
     "text": [
      "+---+-----------------+---+------+--------------+\n",
      "| id|     nome_cliente| uf|status|limite_credito|\n",
      "+---+-----------------+---+------+--------------+\n",
      "|  3|Matheus Daminelli| SC|  true|     4000000.0|\n",
      "|  1|   Jean Guichard²| RS|  true|         1.0E7|\n",
      "|  2|    Lucas da Rosa| SC|  true|     1000000.0|\n",
      "+---+-----------------+---+------+--------------+\n",
      "\n"
     ]
    }
   ],
   "source": [
    "spark.sql(\n",
    "    \"\"\"\n",
    "    SELECT * from cliente_delta\n",
    "    \"\"\"\n",
    ").show()"
   ]
  },
  {
   "cell_type": "code",
   "execution_count": 29,
   "id": "14d54ef7-6438-445a-88d9-30e92c2618fc",
   "metadata": {},
   "outputs": [
    {
     "name": "stdout",
     "output_type": "stream",
     "text": [
      "+-------+-----------------------+------+--------+------------+-----------------------------------------------------------------------------------------+----+--------+---------+-----------+--------------+-------------+-----------------------------------------------------------------------------------------------------------------------------------------------------------------------------------------------------------------------------------------------------------------------------------------------------------------------------+------------+-----------------------------------+\n",
      "|version|timestamp              |userId|userName|operation   |operationParameters                                                                      |job |notebook|clusterId|readVersion|isolationLevel|isBlindAppend|operationMetrics                                                                                                                                                                                                                                                                                                             |userMetadata|engineInfo                         |\n",
      "+-------+-----------------------+------+--------+------------+-----------------------------------------------------------------------------------------+----+--------+---------+-----------+--------------+-------------+-----------------------------------------------------------------------------------------------------------------------------------------------------------------------------------------------------------------------------------------------------------------------------------------------------------------------------+------------+-----------------------------------+\n",
      "|3      |2025-04-22 17:31:04.772|NULL  |NULL    |UPDATE      |{predicate -> []}                                                                        |NULL|NULL    |NULL     |2          |Serializable  |false        |{numRemovedFiles -> 3, numRemovedBytes -> 4498, numCopiedRows -> 0, numDeletionVectorsAdded -> 0, numDeletionVectorsRemoved -> 0, numAddedChangeFiles -> 0, executionTimeMs -> 1264, numDeletionVectorsUpdated -> 0, scanTimeMs -> 827, numAddedFiles -> 3, numUpdatedRows -> 3, numAddedBytes -> 5354, rewriteTimeMs -> 431}|NULL        |Apache-Spark/3.5.5 Delta-Lake/3.0.0|\n",
      "|2      |2025-04-22 17:27:05.567|NULL  |NULL    |ADD COLUMNS |{columns -> [{\"column\":{\"name\":\"cidade\",\"type\":\"string\",\"nullable\":true,\"metadata\":{}}}]}|NULL|NULL    |NULL     |1          |Serializable  |true         |{}                                                                                                                                                                                                                                                                                                                           |NULL        |Apache-Spark/3.5.5 Delta-Lake/3.0.0|\n",
      "|1      |2025-04-22 17:22:05.032|NULL  |NULL    |WRITE       |{mode -> Append, partitionBy -> []}                                                      |NULL|NULL    |NULL     |0          |Serializable  |true         |{numFiles -> 3, numOutputRows -> 3, numOutputBytes -> 4498}                                                                                                                                                                                                                                                                  |NULL        |Apache-Spark/3.5.5 Delta-Lake/3.0.0|\n",
      "|0      |2025-04-22 17:14:39.628|NULL  |NULL    |CREATE TABLE|{isManaged -> true, description -> NULL, partitionBy -> [], properties -> {}}            |NULL|NULL    |NULL     |NULL       |Serializable  |true         |{}                                                                                                                                                                                                                                                                                                                           |NULL        |Apache-Spark/3.5.5 Delta-Lake/3.0.0|\n",
      "+-------+-----------------------+------+--------+------------+-----------------------------------------------------------------------------------------+----+--------+---------+-----------+--------------+-------------+-----------------------------------------------------------------------------------------------------------------------------------------------------------------------------------------------------------------------------------------------------------------------------------------------------------------------------+------------+-----------------------------------+\n",
      "\n"
     ]
    }
   ],
   "source": [
    "# Mostra o histórico sem quebrar dados\n",
    "cliente.history().show(truncate=False)"
   ]
  },
  {
   "cell_type": "markdown",
   "id": "4763be94-ace5-490a-b531-898af8dd52d6",
   "metadata": {
    "jp-MarkdownHeadingCollapsed": true
   },
   "source": [
    "# ALTERANDO TABELA"
   ]
  },
  {
   "cell_type": "code",
   "execution_count": 23,
   "id": "95040b92-1555-4507-8df8-33c48f5554f2",
   "metadata": {},
   "outputs": [
    {
     "name": "stderr",
     "output_type": "stream",
     "text": [
      "                                                                                "
     ]
    },
    {
     "data": {
      "text/plain": [
       "DataFrame[]"
      ]
     },
     "execution_count": 23,
     "metadata": {},
     "output_type": "execute_result"
    }
   ],
   "source": [
    "# Adicionando coluna\n",
    "spark.sql(\n",
    "    \"\"\"\n",
    "    alter table cliente_delta add column cidade STRING\n",
    "    \"\"\"\n",
    ")"
   ]
  },
  {
   "cell_type": "code",
   "execution_count": 24,
   "id": "543d082c-38a8-4917-bcae-ba2eabfe4e5f",
   "metadata": {},
   "outputs": [
    {
     "name": "stderr",
     "output_type": "stream",
     "text": [
      "                                                                                "
     ]
    },
    {
     "name": "stdout",
     "output_type": "stream",
     "text": [
      "+---+-----------------+---+------+--------------+------+\n",
      "| id|     nome_cliente| uf|status|limite_credito|cidade|\n",
      "+---+-----------------+---+------+--------------+------+\n",
      "|  3|Matheus Daminelli| SC|  true|     4000000.0|  NULL|\n",
      "|  1|   Jean Guichard²| RS|  true|         1.0E7|  NULL|\n",
      "|  2|    Lucas da Rosa| SC|  true|     1000000.0|  NULL|\n",
      "+---+-----------------+---+------+--------------+------+\n",
      "\n"
     ]
    }
   ],
   "source": [
    "spark.sql(\n",
    "    \"\"\"\n",
    "    SELECT * from cliente_delta\n",
    "    \"\"\"\n",
    ").show()"
   ]
  },
  {
   "cell_type": "markdown",
   "id": "f5d68d65-b5b3-4d13-88e6-3eb71341dc21",
   "metadata": {
    "jp-MarkdownHeadingCollapsed": true
   },
   "source": [
    "# UPDATE"
   ]
  },
  {
   "cell_type": "code",
   "execution_count": 25,
   "id": "6bcdce20-f25e-4b13-a12c-b3967b969991",
   "metadata": {},
   "outputs": [
    {
     "name": "stderr",
     "output_type": "stream",
     "text": [
      "                                                                                "
     ]
    },
    {
     "data": {
      "text/plain": [
       "DataFrame[num_affected_rows: bigint]"
      ]
     },
     "execution_count": 25,
     "metadata": {},
     "output_type": "execute_result"
    }
   ],
   "source": [
    "# Update\n",
    "spark.sql(\"\"\"\n",
    "    UPDATE cliente_delta\n",
    "    SET cidade = CASE\n",
    "        WHEN id = 1 THEN 'Torres RS'\n",
    "        WHEN id = 2 THEN 'Tubarão SC'\n",
    "        WHEN id = 3 THEN 'Criciúma SC'\n",
    "        ELSE cidade\n",
    "    END\n",
    "\"\"\")"
   ]
  },
  {
   "cell_type": "code",
   "execution_count": 26,
   "id": "ac97c1be-ed2a-445b-998c-d6f1f632335d",
   "metadata": {},
   "outputs": [
    {
     "name": "stdout",
     "output_type": "stream",
     "text": [
      "+---+-----------------+---+------+--------------+-----------+\n",
      "| id|     nome_cliente| uf|status|limite_credito|     cidade|\n",
      "+---+-----------------+---+------+--------------+-----------+\n",
      "|  3|Matheus Daminelli| SC|  true|     4000000.0|Criciúma SC|\n",
      "|  2|    Lucas da Rosa| SC|  true|     1000000.0| Tubarão SC|\n",
      "|  1|   Jean Guichard²| RS|  true|         1.0E7|  Torres RS|\n",
      "+---+-----------------+---+------+--------------+-----------+\n",
      "\n"
     ]
    }
   ],
   "source": [
    "spark.sql(\n",
    "    \"\"\"\n",
    "    SELECT * from cliente_delta\n",
    "    \"\"\"\n",
    ").show()"
   ]
  },
  {
   "cell_type": "markdown",
   "id": "dc947fb3-51d9-4f83-824b-19b2ca8ebf05",
   "metadata": {},
   "source": [
    "### Verifica se é uma delta table"
   ]
  },
  {
   "cell_type": "code",
   "execution_count": 30,
   "id": "4fbc7c7f-1364-4f88-8de1-b029f797fb45",
   "metadata": {},
   "outputs": [
    {
     "data": {
      "text/plain": [
       "True"
      ]
     },
     "execution_count": 30,
     "metadata": {},
     "output_type": "execute_result"
    }
   ],
   "source": [
    "DeltaTable.isDeltaTable(spark, \"spark-warehouse/cliente_delta\")"
   ]
  },
  {
   "cell_type": "markdown",
   "id": "9c2d25b7-a835-4bd3-aa2d-a4d33cdef324",
   "metadata": {
    "jp-MarkdownHeadingCollapsed": true
   },
   "source": [
    "# DELETE"
   ]
  },
  {
   "cell_type": "code",
   "execution_count": null,
   "id": "10339e9a-cc29-46fe-bd88-9b1dd7ab87a9",
   "metadata": {},
   "outputs": [],
   "source": [
    "# Delete\n",
    "spark.sql(\n",
    "    \"\"\"\n",
    "        DELETE FROM cliente_delta\n",
    "        WHERE uf = 'SC' AND status = false\n",
    "    \"\"\"\n",
    ")"
   ]
  },
  {
   "cell_type": "code",
   "execution_count": null,
   "id": "95724fe9-0fbc-4607-b2f6-f3e4da491b31",
   "metadata": {},
   "outputs": [],
   "source": [
    "spark.sql(\n",
    "    \"\"\"\n",
    "    SELECT * from cliente_delta\n",
    "    \"\"\"\n",
    ").show()"
   ]
  },
  {
   "cell_type": "markdown",
   "id": "48894656-54ce-4b54-bf46-6eaf7b8e92ba",
   "metadata": {},
   "source": [
    "# Exibição em Display"
   ]
  },
  {
   "cell_type": "code",
   "execution_count": 31,
   "id": "3c85bc0d-c84f-4a66-a7b4-ad4e3dfc2d21",
   "metadata": {},
   "outputs": [
    {
     "data": {
      "text/html": [
       "<style>pre { white-space: pre !important; }</style>"
      ],
      "text/plain": [
       "<IPython.core.display.HTML object>"
      ]
     },
     "metadata": {},
     "output_type": "display_data"
    }
   ],
   "source": [
    "from IPython.display import display, HTML\n",
    "display(HTML(\"<style>pre { white-space: pre !important; }</style>\"))"
   ]
  },
  {
   "cell_type": "code",
   "execution_count": 32,
   "id": "af1e08a6-93a1-4426-b7cc-bee39af32416",
   "metadata": {},
   "outputs": [
    {
     "name": "stdout",
     "output_type": "stream",
     "text": [
      "+-------+-----------------------+------+--------+------------+-----------------------------------------------------------------------------------------+----+--------+---------+-----------+--------------+-------------+-----------------------------------------------------------------------------------------------------------------------------------------------------------------------------------------------------------------------------------------------------------------------------------------------------------------------------+------------+-----------------------------------+\n",
      "|version|timestamp              |userId|userName|operation   |operationParameters                                                                      |job |notebook|clusterId|readVersion|isolationLevel|isBlindAppend|operationMetrics                                                                                                                                                                                                                                                                                                             |userMetadata|engineInfo                         |\n",
      "+-------+-----------------------+------+--------+------------+-----------------------------------------------------------------------------------------+----+--------+---------+-----------+--------------+-------------+-----------------------------------------------------------------------------------------------------------------------------------------------------------------------------------------------------------------------------------------------------------------------------------------------------------------------------+------------+-----------------------------------+\n",
      "|3      |2025-04-22 17:31:04.772|NULL  |NULL    |UPDATE      |{predicate -> []}                                                                        |NULL|NULL    |NULL     |2          |Serializable  |false        |{numRemovedFiles -> 3, numRemovedBytes -> 4498, numCopiedRows -> 0, numDeletionVectorsAdded -> 0, numDeletionVectorsRemoved -> 0, numAddedChangeFiles -> 0, executionTimeMs -> 1264, numDeletionVectorsUpdated -> 0, scanTimeMs -> 827, numAddedFiles -> 3, numUpdatedRows -> 3, numAddedBytes -> 5354, rewriteTimeMs -> 431}|NULL        |Apache-Spark/3.5.5 Delta-Lake/3.0.0|\n",
      "|2      |2025-04-22 17:27:05.567|NULL  |NULL    |ADD COLUMNS |{columns -> [{\"column\":{\"name\":\"cidade\",\"type\":\"string\",\"nullable\":true,\"metadata\":{}}}]}|NULL|NULL    |NULL     |1          |Serializable  |true         |{}                                                                                                                                                                                                                                                                                                                           |NULL        |Apache-Spark/3.5.5 Delta-Lake/3.0.0|\n",
      "|1      |2025-04-22 17:22:05.032|NULL  |NULL    |WRITE       |{mode -> Append, partitionBy -> []}                                                      |NULL|NULL    |NULL     |0          |Serializable  |true         |{numFiles -> 3, numOutputRows -> 3, numOutputBytes -> 4498}                                                                                                                                                                                                                                                                  |NULL        |Apache-Spark/3.5.5 Delta-Lake/3.0.0|\n",
      "|0      |2025-04-22 17:14:39.628|NULL  |NULL    |CREATE TABLE|{isManaged -> true, description -> NULL, partitionBy -> [], properties -> {}}            |NULL|NULL    |NULL     |NULL       |Serializable  |true         |{}                                                                                                                                                                                                                                                                                                                           |NULL        |Apache-Spark/3.5.5 Delta-Lake/3.0.0|\n",
      "+-------+-----------------------+------+--------+------------+-----------------------------------------------------------------------------------------+----+--------+---------+-----------+--------------+-------------+-----------------------------------------------------------------------------------------------------------------------------------------------------------------------------------------------------------------------------------------------------------------------------------------------------------------------------+------------+-----------------------------------+\n",
      "\n"
     ]
    }
   ],
   "source": [
    "spark.sql('describe HISTORY cliente_delta').show(truncate=False);"
   ]
  }
 ],
 "metadata": {
  "kernelspec": {
   "display_name": "Python 3 (ipykernel)",
   "language": "python",
   "name": "python3"
  },
  "language_info": {
   "codemirror_mode": {
    "name": "ipython",
    "version": 3
   },
   "file_extension": ".py",
   "mimetype": "text/x-python",
   "name": "python",
   "nbconvert_exporter": "python",
   "pygments_lexer": "ipython3",
   "version": "3.12.3"
  }
 },
 "nbformat": 4,
 "nbformat_minor": 5
}
