{
 "cells": [
  {
   "cell_type": "code",
   "execution_count": 1,
   "id": "a94ee799-f073-4719-9bbd-b4091832fb0a",
   "metadata": {},
   "outputs": [],
   "source": [
    "from pyspark.sql import SparkSession"
   ]
  },
  {
   "cell_type": "code",
   "execution_count": 2,
   "id": "aed85340-3156-4e61-8afe-56a34bcfc573",
   "metadata": {},
   "outputs": [
    {
     "name": "stderr",
     "output_type": "stream",
     "text": [
      "25/04/23 13:29:30 WARN Utils: Your hostname, Guichard resolves to a loopback address: 127.0.1.1; using 10.255.255.254 instead (on interface lo)\n",
      "25/04/23 13:29:30 WARN Utils: Set SPARK_LOCAL_IP if you need to bind to another address\n"
     ]
    },
    {
     "name": "stdout",
     "output_type": "stream",
     "text": [
      ":: loading settings :: url = jar:file:/home/guichard/.cache/pypoetry/virtualenvs/engenharia-de-dados-apache-spark-FSwoO1eP-py3.12/lib/python3.12/site-packages/pyspark/jars/ivy-2.5.1.jar!/org/apache/ivy/core/settings/ivysettings.xml\n"
     ]
    },
    {
     "name": "stderr",
     "output_type": "stream",
     "text": [
      "Ivy Default Cache set to: /home/guichard/.ivy2/cache\n",
      "The jars for the packages stored in: /home/guichard/.ivy2/jars\n",
      "org.apache.iceberg#iceberg-spark-runtime-3.5_2.12 added as a dependency\n",
      ":: resolving dependencies :: org.apache.spark#spark-submit-parent-9a71f8f0-70c7-4084-9fc2-eb27b9549ceb;1.0\n",
      "\tconfs: [default]\n",
      "\tfound org.apache.iceberg#iceberg-spark-runtime-3.5_2.12;1.6.1 in central\n",
      ":: resolution report :: resolve 195ms :: artifacts dl 7ms\n",
      "\t:: modules in use:\n",
      "\torg.apache.iceberg#iceberg-spark-runtime-3.5_2.12;1.6.1 from central in [default]\n",
      "\t---------------------------------------------------------------------\n",
      "\t|                  |            modules            ||   artifacts   |\n",
      "\t|       conf       | number| search|dwnlded|evicted|| number|dwnlded|\n",
      "\t---------------------------------------------------------------------\n",
      "\t|      default     |   1   |   0   |   0   |   0   ||   1   |   0   |\n",
      "\t---------------------------------------------------------------------\n",
      ":: retrieving :: org.apache.spark#spark-submit-parent-9a71f8f0-70c7-4084-9fc2-eb27b9549ceb\n",
      "\tconfs: [default]\n",
      "\t0 artifacts copied, 1 already retrieved (0kB/7ms)\n",
      "25/04/23 13:29:42 WARN NativeCodeLoader: Unable to load native-hadoop library for your platform... using builtin-java classes where applicable\n",
      "Setting default log level to \"WARN\".\n",
      "To adjust logging level use sc.setLogLevel(newLevel). For SparkR, use setLogLevel(newLevel).\n",
      "25/04/23 13:29:44 WARN Utils: Service 'SparkUI' could not bind on port 4040. Attempting port 4041.\n"
     ]
    }
   ],
   "source": [
    "# Inicia a sessão spark com configurações do Iceberg\n",
    "spark = SparkSession.builder \\\n",
    "  .appName(\"IcebergLocalDevelopment\") \\\n",
    "  .config('spark.jars.packages', 'org.apache.iceberg:iceberg-spark-runtime-3.5_2.12:1.6.1') \\\n",
    "  .config(\"spark.sql.extensions\", \"org.apache.iceberg.spark.extensions.IcebergSparkSessionExtensions\") \\\n",
    "  .config(\"spark.sql.catalog.local\", \"org.apache.iceberg.spark.SparkCatalog\") \\\n",
    "  .config(\"spark.sql.catalog.local.type\", \"hadoop\") \\\n",
    "  .config(\"spark.sql.catalog.local.warehouse\", \"spark-warehouse/iceberg\") \\\n",
    "  .getOrCreate()"
   ]
  },
  {
   "cell_type": "code",
   "execution_count": 3,
   "id": "8dd422a9-05b8-40c8-a327-74e37470f2a1",
   "metadata": {},
   "outputs": [
    {
     "data": {
      "text/plain": [
       "DataFrame[]"
      ]
     },
     "execution_count": 3,
     "metadata": {},
     "output_type": "execute_result"
    }
   ],
   "source": [
    "## Criação da tabela cliente_iceberg\n",
    "spark.sql(\n",
    "     \"\"\"\n",
    "     CREATE TABLE IF NOT EXISTS local.cliente_iceberg (\n",
    "         id INT NOT NULL,\n",
    "         nome_cliente STRING,\n",
    "         uf CHAR(2),\n",
    "         status BOOLEAN,\n",
    "         limite_credito FLOAT\n",
    "     ) USING iceberg\n",
    "     \"\"\"\n",
    ")"
   ]
  },
  {
   "cell_type": "markdown",
   "id": "dae791f8-79c2-426d-a337-11ba02a3d940",
   "metadata": {},
   "source": [
    "spark.sql(\"select * from local.cliente_iceberg\").show()"
   ]
  },
  {
   "cell_type": "markdown",
   "id": "3d77da80-da98-4f13-96cf-f36794c1ef01",
   "metadata": {},
   "source": [
    "## Insert"
   ]
  },
  {
   "cell_type": "code",
   "execution_count": 5,
   "id": "d4c960bf-95f1-4cfb-9877-8774651ca40f",
   "metadata": {},
   "outputs": [
    {
     "name": "stderr",
     "output_type": "stream",
     "text": [
      "                                                                                "
     ]
    },
    {
     "data": {
      "text/plain": [
       "DataFrame[]"
      ]
     },
     "execution_count": 5,
     "metadata": {},
     "output_type": "execute_result"
    }
   ],
   "source": [
    "spark.sql(\"\"\"\n",
    "    INSERT INTO local.cliente_iceberg VALUES\n",
    "    (1, 'Jean', 'SP', true, 5000.0),\n",
    "    (2, 'Lucas', 'RJ', false, 3000.0),\n",
    "    (3, 'Matheus', 'MG', true, 7000.0)\n",
    "\"\"\")\n"
   ]
  },
  {
   "cell_type": "code",
   "execution_count": 4,
   "id": "dde57e1c-4a2b-45aa-b1ea-1c02d95dad5f",
   "metadata": {},
   "outputs": [
    {
     "name": "stdout",
     "output_type": "stream",
     "text": [
      "+---+------------+---+------+--------------+\n",
      "| id|nome_cliente| uf|status|limite_credito|\n",
      "+---+------------+---+------+--------------+\n",
      "+---+------------+---+------+--------------+\n",
      "\n"
     ]
    }
   ],
   "source": [
    "spark.sql(\"select * from local.cliente_iceberg\").show()"
   ]
  },
  {
   "cell_type": "markdown",
   "id": "f8401982-dded-4ba5-9ab2-e31a4c893fa4",
   "metadata": {},
   "source": [
    "## Update"
   ]
  },
  {
   "cell_type": "code",
   "execution_count": 7,
   "id": "84f2b166-4af1-40ec-906e-db48e3914c4c",
   "metadata": {},
   "outputs": [
    {
     "data": {
      "text/plain": [
       "DataFrame[]"
      ]
     },
     "execution_count": 7,
     "metadata": {},
     "output_type": "execute_result"
    }
   ],
   "source": [
    "spark.sql(\"\"\"\n",
    "    UPDATE local.cliente_iceberg\n",
    "    SET limite_credito = 8000.0\n",
    "    WHERE nome_cliente = 'Jean'\n",
    "\"\"\")"
   ]
  },
  {
   "cell_type": "code",
   "execution_count": 8,
   "id": "e863ecca-994c-4983-9951-6979e3712a44",
   "metadata": {},
   "outputs": [
    {
     "name": "stdout",
     "output_type": "stream",
     "text": [
      "+---+------------+---+------+--------------+\n",
      "| id|nome_cliente| uf|status|limite_credito|\n",
      "+---+------------+---+------+--------------+\n",
      "|  1|        Jean| SP|  true|        8000.0|\n",
      "|  2|       Lucas| RJ| false|        3000.0|\n",
      "|  3|     Matheus| MG|  true|        7000.0|\n",
      "+---+------------+---+------+--------------+\n",
      "\n"
     ]
    }
   ],
   "source": [
    "spark.sql(\"select * from local.cliente_iceberg\").show()"
   ]
  },
  {
   "cell_type": "markdown",
   "id": "b25ff5e3-e48f-4ae7-baf7-a8cf4525c5fb",
   "metadata": {},
   "source": [
    "## Delete"
   ]
  },
  {
   "cell_type": "code",
   "execution_count": 9,
   "id": "d6492cd7-89a9-4305-809e-1458e1bf5cd5",
   "metadata": {},
   "outputs": [
    {
     "data": {
      "text/plain": [
       "DataFrame[]"
      ]
     },
     "execution_count": 9,
     "metadata": {},
     "output_type": "execute_result"
    }
   ],
   "source": [
    "spark.sql(\"\"\"\n",
    "    DELETE FROM local.cliente_iceberg\n",
    "    WHERE id = 2\n",
    "\"\"\")"
   ]
  },
  {
   "cell_type": "code",
   "execution_count": 10,
   "id": "2cb57ea7-f89f-4d66-a34e-292e96fbb148",
   "metadata": {},
   "outputs": [
    {
     "name": "stdout",
     "output_type": "stream",
     "text": [
      "+---+------------+---+------+--------------+\n",
      "| id|nome_cliente| uf|status|limite_credito|\n",
      "+---+------------+---+------+--------------+\n",
      "|  1|        Jean| SP|  true|        8000.0|\n",
      "|  3|     Matheus| MG|  true|        7000.0|\n",
      "+---+------------+---+------+--------------+\n",
      "\n"
     ]
    }
   ],
   "source": [
    "spark.sql(\"select * from local.cliente_iceberg\").show()"
   ]
  }
 ],
 "metadata": {
  "kernelspec": {
   "display_name": "Python 3 (ipykernel)",
   "language": "python",
   "name": "python3"
  },
  "language_info": {
   "codemirror_mode": {
    "name": "ipython",
    "version": 3
   },
   "file_extension": ".py",
   "mimetype": "text/x-python",
   "name": "python",
   "nbconvert_exporter": "python",
   "pygments_lexer": "ipython3",
   "version": "3.12.3"
  }
 },
 "nbformat": 4,
 "nbformat_minor": 5
}
